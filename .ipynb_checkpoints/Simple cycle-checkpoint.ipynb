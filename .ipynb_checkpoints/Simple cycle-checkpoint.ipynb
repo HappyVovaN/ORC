{
 "cells": [
  {
   "cell_type": "code",
   "execution_count": 1,
   "id": "adbd468d-19b3-447b-a9f1-3fa6b960b635",
   "metadata": {},
   "outputs": [],
   "source": [
    "from CoolProp.CoolProp import PropsSI\n",
    "import numpy as np   \n",
    "import matplotlib.pyplot as plt\n",
    "from mpl_toolkits.mplot3d import Axes3D\n",
    "from matplotlib import cm\n",
    "import pandas as pd\n",
    "import ipywidgets as widgets"
   ]
  },
  {
   "cell_type": "code",
   "execution_count": 2,
   "id": "9c26704e-0215-412b-b1aa-ed49ce19acc3",
   "metadata": {},
   "outputs": [],
   "source": [
    "class Turbine:\n",
    "    def __init__(self, effieciency, Gin, Pin, Tin, Pout):\n",
    "        self.eff = effieciency\n",
    "        self.Gin = Gin\n",
    "        self.Pin = Pin\n",
    "        self.Tin = Tin\n",
    "        self.Pout = Pout\n",
    "        self.Hin=PropsSI('H','T',self.Tin,'P',self.Pin,fluid)\n",
    "        self.Sin=PropsSI('S','T',self.Tin,'P',self.Pin,fluid)\n",
    "        Sout_t=self.Sin\n",
    "        try:\n",
    "            Hout_t=PropsSI('H','S',Sout_t,'P',self.Pout,fluid)\n",
    "        except:\n",
    "            Hout_t=self.Hin\n",
    "        Hout_d=self.Hin-(self.Hin-Hout_t)*self.eff\n",
    "        self.Hout=Hout_d\n",
    "        self.Tout=PropsSI('T','H',self.Hout,'P',self.Pout,fluid)\n",
    "        self.Sout=PropsSI('S','H',self.Hout,'P',self.Pout,fluid)\n",
    "        self.P=(self.Hin-self.Hout)*self.Gin\n",
    "\n",
    "class Compressor:\n",
    "    def __init__(self, effieciency, Gin, Pin, Tin, Pout):\n",
    "        self.eff = effieciency\n",
    "        self.Gin = Gin\n",
    "        self.Pin = Pin\n",
    "        self.Tin = Tin\n",
    "        self.Pout = Pout\n",
    "        self.Hin=PropsSI('H','T',self.Tin,'Q',0,fluid)\n",
    "        self.Sin=PropsSI('S','T',self.Tin,'Q',0,fluid)\n",
    "        Sout_t=self.Sin\n",
    "        Hout_t=PropsSI('H','S',Sout_t,'P',self.Pout,fluid)\n",
    "        Hout_d=self.Hin+(Hout_t-self.Hin)/self.eff\n",
    "        self.Hout=Hout_d\n",
    "        self.Tout=PropsSI('T','H',self.Hout,'P',self.Pout,fluid)\n",
    "        self.Sout=PropsSI('S','H',self.Hout,'P',self.Pout,fluid)\n",
    "        self.P=-(self.Hin-self.Hout)*self.Gin\n",
    "\n",
    "        \n",
    "class Heater:\n",
    "    def __init__(self, Gin, Pin, Tin, Hin,Tout):\n",
    "        self.Gin = Gin\n",
    "        self.Pin = Pin\n",
    "        self.Tin = Tin\n",
    "        self.Tout = Tout\n",
    "        self.Hin = Hin\n",
    "        self.Hout=PropsSI('H','T',self.Tout,'P',self.Pin,fluid)\n",
    "        self.Pout=self.Pin\n",
    "        self.Q=-(self.Hin-self.Hout)*self.Gin\n",
    "        \n",
    "class Condenser:\n",
    "    def __init__(self, Gin, Pin, Tin, Hin, Tout):\n",
    "        self.Gin = Gin\n",
    "        self.Pin = Pin\n",
    "        self.Tin = Tin\n",
    "        self.Hin = Hin\n",
    "        self.Tout = Tout\n",
    "        self.Hout=PropsSI('H','T',self.Tout,'Q',0,fluid)\n",
    "        self.Pout=PropsSI('P','T',self.Tout,'Q',0,fluid)\n",
    "        self.Q=-(self.Hin-self.Hout)*self.Gin"
   ]
  },
  {
   "cell_type": "code",
   "execution_count": 3,
   "id": "76d3c11a-dc7f-4ed1-863a-91a2230b3464",
   "metadata": {},
   "outputs": [],
   "source": [
    "#Initial Data\n",
    "G=1\n",
    "Turb_eff=0.85\n",
    "Comp_eff=0.85\n",
    "Electr_eff=0.99\n",
    "Mech_eff=0.99\n",
    "Tcond=303.15\n",
    "Min_vapour=0.86\n",
    "\n",
    "\n",
    "#Calculate Effieciency\n",
    "def Calculate_eff():\n",
    "    Pmin=PropsSI('P','T',Tcond,'Q',0,fluid)\n",
    "    turb1=Turbine(Turb_eff,G,Pturb_in,Tturb_in,Pmin)\n",
    "    cooler1=Condenser(G,turb1.Pout,turb1.Tout, turb1.Hout,Tcond)\n",
    "    comp1=Compressor(Comp_eff,G,cooler1.Pout,cooler1.Tout,Pturb_in)\n",
    "    heater1=Heater(G,Pturb_in,comp1.Tout,comp1.Hout, Tturb_in)\n",
    "    #print('Vapour FRACTION = '+ str(PropsSI('Q','P',Pmin,'H',turb1.Hout,fluid))[:4])\n",
    "    Qturb_out=abs(PropsSI('Q','P',Pmin,'H',turb1.Hout,fluid))\n",
    "    #print('Vapour FRACTION = '+ str(Qturb_out)[:4])\n",
    "    if Qturb_out<Min_vapour:\n",
    "        #print('Too humid')\n",
    "        Cycle_Effiency=0\n",
    "    if heater1.Q<0:\n",
    "        #print('Too humid-2')\n",
    "        Cycle_Effiency=0\n",
    "        \n",
    "    else:\n",
    "        Cycle_Effiency=(turb1.P*Electr_eff*Mech_eff-comp1.P/Electr_eff/Mech_eff)/heater1.Q\n",
    "    if Cycle_Effiency<0:\n",
    "        Cycle_Effiency=0\n",
    "    return Cycle_Effiency\n",
    "        \n",
    "def Calculation():  \n",
    "    if Pturb_in<Pcrit:\n",
    "        #print('Subcritical')\n",
    "        Tsat=PropsSI('T','P',Pturb_in,'Q',0,fluid)\n",
    "        if Tsat>Tturb_in:\n",
    "            #print('Temperature is lower than saturation')\n",
    "            Cycle_Effiency=0\n",
    "        else:\n",
    "            Cycle_Effiency=Calculate_eff()\n",
    "    else:\n",
    "        #print('Supercritical')\n",
    "        Cycle_Effiency=Calculate_eff()\n",
    "    #print('Cycle_Effiency = '+ str(Cycle_Effiency)[:4])\n",
    "    return Cycle_Effiency\n",
    "\n"
   ]
  },
  {
   "cell_type": "code",
   "execution_count": 4,
   "id": "abb23205-fe01-4a8d-ba94-57546f4b5605",
   "metadata": {},
   "outputs": [],
   "source": [
    "#Iterable\n",
    "Initial_temperatures=np.arange(50,350,10)\n",
    "Initial_pressures=np.arange(1,60,10)\n",
    "Fluids=['R134a','R22','R41','CO2','R236ea','R245fa','R124','Water' ]\n",
    "\n",
    "\n",
    "Eff_result=np.zeros((len(Fluids),len(Initial_temperatures),len(Initial_pressures)))\n",
    "for i in range(0,len(Fluids)):\n",
    "    for j in range(0,len(Initial_temperatures)):\n",
    "        for k in range(0,len(Initial_pressures)):\n",
    "            fluid = Fluids[i]\n",
    "            Pcrit=PropsSI(fluid,'pcrit')\n",
    "            Tturb_in=Initial_temperatures[j]+273.15\n",
    "            Pturb_in=Initial_pressures[k]*1000000\n",
    "            Eff_res=Calculation()*100\n",
    "            if Eff_res==0:\n",
    "                Eff_res=None\n",
    "            Eff_result[i][j][k]=Eff_res\n",
    "    \n",
    "\n",
    "#print('Effieency = '+str(Calculation()*100)[:5]+'%')\n"
   ]
  },
  {
   "cell_type": "code",
   "execution_count": 5,
   "id": "48983451-0c7f-4523-b7be-2cd099a9bb95",
   "metadata": {},
   "outputs": [],
   "source": [
    "style = {'description_width': 'initial'}\n",
    "\n",
    "Choose_fluid=widgets.RadioButtons(\n",
    "    options=Fluids,\n",
    "#    value='pineapple', # Defaults to 'pineapple'\n",
    "#    layout={'width': 'max-content'}, # If the items' names are long\n",
    "    description='Choose fluid:',\n",
    "    value=Fluids[0],\n",
    "    style=style,\n",
    "    disabled=False \n",
    "       )\n",
    "\n",
    "\n",
    "def show_plot(Choose_fluid):\n",
    "    \n",
    "        Chosen_index=Fluids.index(Choose_fluid)\n",
    "        fig = plt.figure(dpi=200)\n",
    "        ax = fig.add_subplot(projection='3d')\n",
    "        X, Y = np.meshgrid(Initial_pressures, Initial_temperatures)\n",
    "        ax.plot_surface(X,Y,Eff_result[Chosen_index],cmap=cm.viridis,\n",
    "                        linewidth=0.1, antialiased=False)\n",
    "        ax.view_init(30, -120)\n",
    "        plt.show()\n",
    "\n"
   ]
  },
  {
   "cell_type": "code",
   "execution_count": 6,
   "id": "0345e5c4-4ad8-4d44-a12c-20862cb5b1c6",
   "metadata": {},
   "outputs": [
    {
     "data": {
      "application/vnd.jupyter.widget-view+json": {
       "model_id": "b045a89ee2a24309ac439e8cbb51f9ef",
       "version_major": 2,
       "version_minor": 0
      },
      "text/plain": [
       "interactive(children=(RadioButtons(description='Choose fluid:', options=('R134a', 'R22', 'R41', 'CO2', 'R236ea…"
      ]
     },
     "execution_count": 6,
     "metadata": {},
     "output_type": "execute_result"
    }
   ],
   "source": [
    "widgets.interactive(show_plot,Choose_fluid=Choose_fluid)"
   ]
  },
  {
   "cell_type": "code",
   "execution_count": 7,
   "id": "e5b8d169-48c5-443c-aab1-88741330e25c",
   "metadata": {},
   "outputs": [],
   "source": [
    "#pd.DataFrame(Eff_result[2],columns=Initial_pressures,index=Initial_temperatures)\n",
    "Choose_fluid1=widgets.RadioButtons(\n",
    "    options=Fluids,\n",
    "#    value='pineapple', # Defaults to 'pineapple'\n",
    "#    layout={'width': 'max-content'}, # If the items' names are long\n",
    "    description='Choose fluid:',\n",
    "    value=Fluids[0],\n",
    "    style=style,\n",
    "    disabled=False \n",
    "       )\n",
    "\n",
    "def show_plot1(Choose_fluid1):\n",
    "    \n",
    "        Chosen_index=Fluids.index(Choose_fluid1)\n",
    "        Z=Eff_result[Chosen_index]\n",
    "        fig = plt.figure(dpi=200)\n",
    "        ax = fig.add_subplot(projection='3d')\n",
    "        X, Y = np.meshgrid(Initial_pressures, Initial_temperatures)\n",
    "        ax.plot_surface(X, Y, Z, rstride=8, cstride=8, alpha=0.3)\n",
    "        cset = ax.contour(X, Y, Z, zdir='z', offset=-1, cmap=cm.coolwarm)\n",
    "        cset = ax.contour(X, Y, Z, zdir='x', offset=60 ,cmap=cm.coolwarm)\n",
    "        cset = ax.contour(X, Y, Z, zdir='y',  offset=400 ,cmap=cm.coolwarm)\n",
    "        ax.view_init(30, -120)\n",
    "        plt.show()"
   ]
  },
  {
   "cell_type": "code",
   "execution_count": 8,
   "id": "41f5c640-8a1e-4720-944b-184ee0e67df0",
   "metadata": {},
   "outputs": [
    {
     "data": {
      "application/vnd.jupyter.widget-view+json": {
       "model_id": "2f9b0a917a4b4e7cba6fba5a1f1f6056",
       "version_major": 2,
       "version_minor": 0
      },
      "text/plain": [
       "interactive(children=(RadioButtons(description='Choose fluid:', options=('R134a', 'R22', 'R41', 'CO2', 'R236ea…"
      ]
     },
     "execution_count": 8,
     "metadata": {},
     "output_type": "execute_result"
    }
   ],
   "source": [
    "widgets.interactive(show_plot1,Choose_fluid1=Choose_fluid1)"
   ]
  },
  {
   "cell_type": "code",
   "execution_count": null,
   "id": "c9873066-7cb2-48c0-a2f2-11bf990ae241",
   "metadata": {},
   "outputs": [],
   "source": []
  },
  {
   "cell_type": "code",
   "execution_count": null,
   "id": "986d7bfe-d8ba-4707-b653-fdcb92b71163",
   "metadata": {},
   "outputs": [],
   "source": []
  }
 ],
 "metadata": {
  "kernelspec": {
   "display_name": "Python 3 (ipykernel)",
   "language": "python",
   "name": "python3"
  },
  "language_info": {
   "codemirror_mode": {
    "name": "ipython",
    "version": 3
   },
   "file_extension": ".py",
   "mimetype": "text/x-python",
   "name": "python",
   "nbconvert_exporter": "python",
   "pygments_lexer": "ipython3",
   "version": "3.9.13"
  }
 },
 "nbformat": 4,
 "nbformat_minor": 5
}
